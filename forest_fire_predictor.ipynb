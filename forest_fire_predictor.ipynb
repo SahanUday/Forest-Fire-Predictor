{
 "cells": [
  {
   "cell_type": "code",
   "execution_count": 204,
   "id": "268ee6e9-c8eb-4d9a-a7c3-c08671eebdad",
   "metadata": {},
   "outputs": [],
   "source": [
    "import warnings\n",
    "import pandas as pd\n",
    "\n",
    "warnings.filterwarnings('ignore')"
   ]
  },
  {
   "cell_type": "code",
   "execution_count": 205,
   "id": "c9c63961-2d75-4fa3-9b6b-994dcf326415",
   "metadata": {},
   "outputs": [
    {
     "data": {
      "text/html": [
       "<div>\n",
       "<style scoped>\n",
       "    .dataframe tbody tr th:only-of-type {\n",
       "        vertical-align: middle;\n",
       "    }\n",
       "\n",
       "    .dataframe tbody tr th {\n",
       "        vertical-align: top;\n",
       "    }\n",
       "\n",
       "    .dataframe thead th {\n",
       "        text-align: right;\n",
       "    }\n",
       "</style>\n",
       "<table border=\"1\" class=\"dataframe\">\n",
       "  <thead>\n",
       "    <tr style=\"text-align: right;\">\n",
       "      <th></th>\n",
       "      <th>Area</th>\n",
       "      <th>Oxygen</th>\n",
       "      <th>Temperature</th>\n",
       "      <th>Humidity</th>\n",
       "      <th>Fire Occurrence</th>\n",
       "    </tr>\n",
       "  </thead>\n",
       "  <tbody>\n",
       "    <tr>\n",
       "      <th>0</th>\n",
       "      <td>Jharkand</td>\n",
       "      <td>40</td>\n",
       "      <td>45</td>\n",
       "      <td>20</td>\n",
       "      <td>1</td>\n",
       "    </tr>\n",
       "    <tr>\n",
       "      <th>1</th>\n",
       "      <td>Bangalore</td>\n",
       "      <td>50</td>\n",
       "      <td>30</td>\n",
       "      <td>10</td>\n",
       "      <td>1</td>\n",
       "    </tr>\n",
       "    <tr>\n",
       "      <th>2</th>\n",
       "      <td>Ecuador</td>\n",
       "      <td>10</td>\n",
       "      <td>20</td>\n",
       "      <td>70</td>\n",
       "      <td>0</td>\n",
       "    </tr>\n",
       "    <tr>\n",
       "      <th>3</th>\n",
       "      <td>a</td>\n",
       "      <td>60</td>\n",
       "      <td>45</td>\n",
       "      <td>70</td>\n",
       "      <td>1</td>\n",
       "    </tr>\n",
       "    <tr>\n",
       "      <th>4</th>\n",
       "      <td>Bangalore</td>\n",
       "      <td>30</td>\n",
       "      <td>48</td>\n",
       "      <td>10</td>\n",
       "      <td>1</td>\n",
       "    </tr>\n",
       "  </tbody>\n",
       "</table>\n",
       "</div>"
      ],
      "text/plain": [
       "        Area  Oxygen  Temperature  Humidity  Fire Occurrence\n",
       "0   Jharkand      40           45        20                1\n",
       "1  Bangalore      50           30        10                1\n",
       "2    Ecuador      10           20        70                0\n",
       "3          a      60           45        70                1\n",
       "4  Bangalore      30           48        10                1"
      ]
     },
     "execution_count": 205,
     "metadata": {},
     "output_type": "execute_result"
    }
   ],
   "source": [
    "data = pd.read_csv('Forest_fire.csv')\n",
    "data.head()"
   ]
  },
  {
   "cell_type": "code",
   "execution_count": 206,
   "id": "80a24154-2dae-4bd3-b694-2d45651ee106",
   "metadata": {},
   "outputs": [
    {
     "name": "stdout",
     "output_type": "stream",
     "text": [
      "<class 'pandas.core.frame.DataFrame'>\n",
      "RangeIndex: 39 entries, 0 to 38\n",
      "Data columns (total 5 columns):\n",
      " #   Column           Non-Null Count  Dtype \n",
      "---  ------           --------------  ----- \n",
      " 0   Area             29 non-null     object\n",
      " 1   Oxygen           39 non-null     int64 \n",
      " 2   Temperature      39 non-null     int64 \n",
      " 3   Humidity         39 non-null     int64 \n",
      " 4   Fire Occurrence  39 non-null     int64 \n",
      "dtypes: int64(4), object(1)\n",
      "memory usage: 1.7+ KB\n"
     ]
    }
   ],
   "source": [
    "data.info()"
   ]
  },
  {
   "cell_type": "code",
   "execution_count": 207,
   "id": "15c6e51a-2015-4cd2-ba1a-a31fa5232df5",
   "metadata": {},
   "outputs": [],
   "source": [
    "x = data.drop(['Area', 'Fire Occurrence'], axis=1)  # Input features\n",
    "y = data['Fire Occurrence']                         # Target variable"
   ]
  },
  {
   "cell_type": "code",
   "execution_count": 208,
   "id": "374ca54a-8e32-48ff-b332-7c4d40956774",
   "metadata": {},
   "outputs": [],
   "source": [
    "from sklearn.model_selection import train_test_split\n",
    "\n",
    "#Splits the dataset into training (80%) and testing (20%) sets.\n",
    "x_train, x_test, y_train, y_test = train_test_split(x, y, test_size=0.20, random_state=0)"
   ]
  },
  {
   "cell_type": "code",
   "execution_count": 209,
   "id": "6acf12ca-f5c1-4265-b0e6-aa88af6a0b4c",
   "metadata": {},
   "outputs": [],
   "source": [
    "#Imports machine learning models.\n",
    "from sklearn.linear_model import LinearRegression\n",
    "from sklearn.ensemble import RandomForestRegressor\n",
    "from sklearn.ensemble import GradientBoostingRegressor\n",
    "from sklearn.linear_model import LogisticRegression\n",
    "from xgboost import XGBRegressor"
   ]
  },
  {
   "cell_type": "code",
   "execution_count": 210,
   "id": "fd85f832-64e1-4cc0-ba99-d5e9d172f28b",
   "metadata": {},
   "outputs": [],
   "source": [
    "#Trains a Linear Regression model.\n",
    "lr = LinearRegression()\n",
    "lr.fit(x_train,y_train);\n",
    "\n",
    "#Trains a Random Forest Regressor.\n",
    "rf = RandomForestRegressor()\n",
    "rf.fit(x_train,y_train);\n",
    "\n",
    "#Trains a Gradient Boosting Regressor.\n",
    "xgb = GradientBoostingRegressor()\n",
    "xgb.fit(x_train,y_train);\n",
    "\n",
    "#Trains an XGBoost Regressor.\n",
    "xg = XGBRegressor()\n",
    "xg.fit(x_train,y_train);\n",
    "\n",
    "#Trains a Logistic Regressor.\n",
    "log_reg = LogisticRegression()\n",
    "log_reg.fit(x_train,y_train);"
   ]
  },
  {
   "cell_type": "code",
   "execution_count": 211,
   "id": "dd339302-eab1-41e3-afca-ddc35bdc7349",
   "metadata": {},
   "outputs": [],
   "source": [
    "#Each model generates predictions \n",
    "\n",
    "y_pred1 = lr.predict(x_test)\n",
    "y_pred2 = rf.predict(x_test)\n",
    "y_pred3 = xgb.predict(x_test)\n",
    "y_pred4 = xg.predict(x_test)\n",
    "y_pred5 = log_reg.predict(x_test)"
   ]
  },
  {
   "cell_type": "code",
   "execution_count": 212,
   "id": "89490849-ee4d-4981-80d2-5b4c1d8e99fb",
   "metadata": {},
   "outputs": [
    {
     "name": "stdout",
     "output_type": "stream",
     "text": [
      "     Model  R2_score3\n",
      "0       LR   0.786640\n",
      "1       RF   0.931900\n",
      "2      GBR   0.927607\n",
      "3       XG   0.871006\n",
      "4  LOG_REG   1.000000\n"
     ]
    }
   ],
   "source": [
    "# Calculate R² Scores\n",
    "from sklearn import metrics\n",
    "\n",
    "score1 = metrics.r2_score(y_test, y_pred1)\n",
    "score2 = metrics.r2_score(y_test, y_pred2)\n",
    "score3 = metrics.r2_score(y_test, y_pred3)\n",
    "score4 = metrics.r2_score(y_test, y_pred4)\n",
    "score5 = metrics.r2_score(y_test, y_pred5)\n",
    "\n",
    "final_data = pd.DataFrame({'Model':['LR','RF','GBR','XG', 'LOG_REG'],'R2_score3':[score1,score2,score3,score4,score5]})\n",
    "print(final_data)"
   ]
  },
  {
   "cell_type": "code",
   "execution_count": 213,
   "id": "77dce4b4-ecdd-4fb6-8072-eabaa2e519d7",
   "metadata": {},
   "outputs": [],
   "source": [
    "#  Logistic Regressorr is best Regression model\n",
    "log_reg = LogisticRegression()\n",
    "log_reg_final = log_reg.fit(x,y);"
   ]
  },
  {
   "cell_type": "code",
   "execution_count": 214,
   "id": "b2bdb9a3-a3fb-41b1-b993-b444085d5834",
   "metadata": {},
   "outputs": [],
   "source": [
    "import joblib\n",
    "joblib.dump(log_reg_final,'forest_fire_predictor')\n",
    "model = joblib.load('forest_fire_predictor')"
   ]
  },
  {
   "cell_type": "code",
   "execution_count": 215,
   "id": "82fea36c-1ae0-42a3-a3cf-b980a72bd14a",
   "metadata": {},
   "outputs": [
    {
     "data": {
      "text/plain": [
       "array([0], dtype=int64)"
      ]
     },
     "execution_count": 215,
     "metadata": {},
     "output_type": "execute_result"
    }
   ],
   "source": [
    "#prediction on new data\n",
    "\n",
    "data_new = pd.DataFrame({\n",
    "    'Oxygen':20,\n",
    "    'Temperature':10,\n",
    "    'Humidity':80,\n",
    "},index=[0])\n",
    "\n",
    "model.predict(data_new)"
   ]
  },
  {
   "cell_type": "markdown",
   "id": "d629b653-d85b-40ae-a631-005d704acd8e",
   "metadata": {},
   "source": [
    "# GUI"
   ]
  },
  {
   "cell_type": "code",
   "execution_count": 216,
   "id": "25298cd8-925d-4ff4-8eb2-fc3436e9af99",
   "metadata": {},
   "outputs": [
    {
     "name": "stdout",
     "output_type": "stream",
     "text": [
      "No Fire: Conditions are safe.\n"
     ]
    }
   ],
   "source": [
    "from tkinter import *\n",
    "import pandas as pd\n",
    "import joblib\n",
    "\n",
    "def show_entry_fields():\n",
    "    # Retrieve input values from the user\n",
    "    oxygen = float(e1.get())\n",
    "    temperature = float(e2.get())\n",
    "    humidity = float(e3.get())\n",
    "    \n",
    "    # Load the pre-trained model\n",
    "    model = joblib.load('forest_fire_predictor')  # Update with your actual model filename\n",
    "    \n",
    "    # Create a new DataFrame for prediction\n",
    "    data_new = pd.DataFrame({\n",
    "        'Oxygen': [oxygen],\n",
    "        'Temperature': [temperature],\n",
    "        'Humidity': [humidity]\n",
    "    })\n",
    "\n",
    "    # Make the prediction\n",
    "    result = model.predict(data_new)\n",
    "\n",
    "    # Display appropriate message based on the prediction result\n",
    "    if result[0] == 0:\n",
    "        message = \"No Fire: Conditions are safe.\"\n",
    "    else:\n",
    "        message = \"Fire: Potential fire hazard detected!\"\n",
    "\n",
    "    Label(master, text=\"Prediction Result-\").grid(row=5, column=0)\n",
    "    Label(master, text=message).grid(row=5, column=1)\n",
    "\n",
    "    # Print result to console (optional)\n",
    "    print(message)\n",
    "\n",
    "# Initialize the main GUI window\n",
    "master = Tk()\n",
    "master.title(\"Forest Fire Predictor Using Machine Learning\")\n",
    "\n",
    "# Header\n",
    "label = Label(master, text=\"Forest Fire Predictor Using Machine Learning\", bg=\"black\", fg=\"white\")\n",
    "label.grid(row=0, columnspan=2)\n",
    "\n",
    "# Input labels and entry fields\n",
    "Label(master, text=\"Oxygen\").grid(row=1, column=0)\n",
    "Label(master, text=\"Temperature\").grid(row=2, column=0)\n",
    "Label(master, text=\"Humidity\").grid(row=3, column=0)\n",
    "\n",
    "e1 = Entry(master)\n",
    "e2 = Entry(master)\n",
    "e3 = Entry(master)\n",
    "\n",
    "e1.grid(row=1, column=1)\n",
    "e2.grid(row=2, column=1)\n",
    "e3.grid(row=3, column=1)\n",
    "\n",
    "# Prediction button\n",
    "Button(master, text='Predict', command=show_entry_fields).grid(row=4, columnspan=2)\n",
    "\n",
    "# Start the main GUI loop\n",
    "mainloop()\n"
   ]
  },
  {
   "cell_type": "code",
   "execution_count": 217,
   "id": "6d10926c-8282-40ce-a481-8fb2836335df",
   "metadata": {},
   "outputs": [
    {
     "data": {
      "text/plain": [
       "True"
      ]
     },
     "execution_count": 217,
     "metadata": {},
     "output_type": "execute_result"
    }
   ],
   "source": [
    "1==1.0\n"
   ]
  },
  {
   "cell_type": "code",
   "execution_count": null,
   "id": "dfcb0072-234c-4aa6-a6eb-a2190676a0a5",
   "metadata": {},
   "outputs": [],
   "source": []
  }
 ],
 "metadata": {
  "kernelspec": {
   "display_name": "Python 3 (ipykernel)",
   "language": "python",
   "name": "python3"
  },
  "language_info": {
   "codemirror_mode": {
    "name": "ipython",
    "version": 3
   },
   "file_extension": ".py",
   "mimetype": "text/x-python",
   "name": "python",
   "nbconvert_exporter": "python",
   "pygments_lexer": "ipython3",
   "version": "3.12.4"
  }
 },
 "nbformat": 4,
 "nbformat_minor": 5
}
